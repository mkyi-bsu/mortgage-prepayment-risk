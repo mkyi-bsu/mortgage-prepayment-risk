{
 "cells": [
  {
   "cell_type": "markdown",
   "id": "c2ff8b11",
   "metadata": {},
   "source": [
    "# 04 - Model Training & Evaluation\n",
    "\n",
    "This notebook builds and trains a baseline machine learning model to predict mortgage prepayment risk. We use the engineered dataset from earlier steps and apply preprocessing steps like imputation and encoding before training a decision tree classifier.\n",
    "\n",
    "## Objectives:\n",
    "- Load preprocessed training and testing data\n",
    "- Define a custom transformation pipeline:\n",
    "  - Mean and constant imputation\n",
    "  - One-hot encoding of categorical variables\n",
    "  - State-based dummy variables\n",
    "- Train a Decision Tree Classifier\n",
    "- Evaluate model performance\n",
    "\n",
    "## Summary\n",
    "\n",
    "This notebook successfully builds a working machine learning pipeline for predicting mortgage prepayment. While the current model is a decision tree, future work can include hyperparameter tuning and more complex algorithms such as gradient boosting."
   ]
  },
  {
   "cell_type": "markdown",
   "id": "d4495d2e-2664-4ab2-bb35-6d052e6a6ca0",
   "metadata": {},
   "source": [
    "# Load data from previous session"
   ]
  },
  {
   "cell_type": "code",
   "execution_count": 1,
   "id": "1f8600cf-4748-4a6f-9f3a-bde7f9eda7eb",
   "metadata": {},
   "outputs": [],
   "source": [
    "import pandas as pd\n",
    "import numpy as np\n",
    "import pickle"
   ]
  },
  {
   "cell_type": "code",
   "execution_count": 2,
   "id": "efa8a792-c76b-4fb1-bcc1-2d92f711a352",
   "metadata": {},
   "outputs": [],
   "source": [
    "# load from previous session\n",
    "# X_train, X_test, y_train, y_test\n",
    "# vars_impute_mean \n",
    "# vars_impute_constant\n",
    "X_train=pd.read_pickle('X_train.pkl')\n",
    "X_test=pd.read_pickle('X_test.pkl')\n",
    "y_train=pd.read_pickle('y_train.pkl')\n",
    "y_test=pd.read_pickle('y_test.pkl')\n",
    "with open('vars_impute_mean.list','rb') as fp:\n",
    "    vars_impute_mean=pickle.load(fp)\n",
    "with open('vars_impute_constant.list','rb') as fp:\n",
    "    vars_impute_constant=pickle.load(fp)"
   ]
  },
  {
   "attachments": {},
   "cell_type": "markdown",
   "id": "a7b64657-4286-4ded-a596-0dc82b387594",
   "metadata": {},
   "source": [
    "# add a few state dummies\n",
    "\n"
   ]
  },
  {
   "cell_type": "code",
   "execution_count": 3,
   "id": "60cfdbe2-ef5e-4b61-8cd1-29e8fb025861",
   "metadata": {},
   "outputs": [
    {
     "data": {
      "text/plain": [
       "CA    0.129517\n",
       "TX    0.084754\n",
       "FL    0.074420\n",
       "WA    0.038615\n",
       "CO    0.036717\n",
       "IL    0.036408\n",
       "AZ    0.034232\n",
       "NY    0.031560\n",
       "NC    0.031498\n",
       "PA    0.029971\n",
       "MI    0.029864\n",
       "GA    0.029718\n",
       "VA    0.028431\n",
       "MN    0.025348\n",
       "OH    0.024033\n",
       "NJ    0.023257\n",
       "OR    0.021561\n",
       "MA    0.021331\n",
       "MO    0.020698\n",
       "WI    0.020038\n",
       "TN    0.019933\n",
       "UT    0.016969\n",
       "SC    0.015841\n",
       "MD    0.015581\n",
       "NV    0.014233\n",
       "IN    0.014168\n",
       "LA    0.010476\n",
       "AL    0.010422\n",
       "IA    0.010374\n",
       "KY    0.009025\n",
       "CT    0.008298\n",
       "ID    0.008164\n",
       "OK    0.007761\n",
       "NE    0.007200\n",
       "AR    0.006762\n",
       "KS    0.005434\n",
       "NM    0.005293\n",
       "MT    0.005062\n",
       "NH    0.004677\n",
       "MS    0.004089\n",
       "HI    0.003959\n",
       "RI    0.003369\n",
       "SD    0.003312\n",
       "DE    0.003021\n",
       "ME    0.002657\n",
       "ND    0.002308\n",
       "WV    0.001839\n",
       "WY    0.001808\n",
       "DC    0.001727\n",
       "PR    0.001644\n",
       "VT    0.001302\n",
       "AK    0.001234\n",
       "VI    0.000089\n",
       "Name: Property State, dtype: float64"
      ]
     },
     "execution_count": 3,
     "metadata": {},
     "output_type": "execute_result"
    }
   ],
   "source": [
    "X_train['Property State'].value_counts() / len(X_train)"
   ]
  },
  {
   "cell_type": "markdown",
   "id": "4a6bb9d0-789f-4db2-86f2-f566fae89c70",
   "metadata": {},
   "source": [
    "# create pipeline"
   ]
  },
  {
   "cell_type": "markdown",
   "id": "ea1a5fc9",
   "metadata": {},
   "source": [
    "We define a function to cleanly apply all preprocessing steps: imputation, encoding, and feature selection."
   ]
  },
  {
   "cell_type": "code",
   "execution_count": 4,
   "id": "bbdf650e-75dc-4e60-8b8e-468eeeb11c83",
   "metadata": {},
   "outputs": [],
   "source": [
    "# pipeline\n",
    "def transformation_pipeline(df, vars_impute_mean, vars_impute_constant):\n",
    "    df_imputed=df.copy()\n",
    "    df_imputed[vars_impute_mean] = df[vars_impute_mean].fillna(df[vars_impute_mean].mean())\n",
    "    for var in vars_impute_constant:\n",
    "        print(df[var].dtype)\n",
    "        if df[var].dtype == 'object': \n",
    "            df_imputed[var] = df[var].fillna(\"Missing\")\n",
    "        else:\n",
    "            df_imputed[var] = df[var].fillna(0)\n",
    "    df_imputed = pd.get_dummies(df_imputed, prefix=['Property Type'], columns = ['Property Type'], drop_first=True)\n",
    "    df_imputed = pd.get_dummies(df_imputed, prefix=['Loan Purpose'], columns = ['Loan Purpose'], drop_first=True)\n",
    "    df_imputed['state_ca'] = 1 *(df_imputed['Property State'] == 'CA')\n",
    "    df_imputed['state_tx'] = 1 *(df_imputed['Property State'] == 'TX')\n",
    "    df_imputed['state_fl'] = 1 *(df_imputed['Property State'] == 'FL')\n",
    "    vars_to_drop = ['Loan Identifier','reporting_period', 'Property State']\n",
    "    return df_imputed.drop(vars_to_drop, axis=1)\n"
   ]
  },
  {
   "cell_type": "code",
   "execution_count": 5,
   "id": "c7ce806e-7275-4b68-ae6f-8186ed1c83af",
   "metadata": {},
   "outputs": [
    {
     "name": "stdout",
     "output_type": "stream",
     "text": [
      "float64\n",
      "float64\n",
      "float64\n",
      "float64\n",
      "float64\n",
      "float64\n",
      "float64\n",
      "float64\n",
      "float64\n",
      "object\n",
      "object\n",
      "object\n"
     ]
    }
   ],
   "source": [
    "X_train_final = transformation_pipeline(X_train,vars_impute_mean, vars_impute_constant)"
   ]
  },
  {
   "cell_type": "code",
   "execution_count": 6,
   "id": "b7490c39-c480-4ccb-93a0-139bb1ac770c",
   "metadata": {},
   "outputs": [
    {
     "data": {
      "text/plain": [
       "False"
      ]
     },
     "execution_count": 6,
     "metadata": {},
     "output_type": "execute_result"
    }
   ],
   "source": [
    "#check if any missing value exists\n",
    "X_train_final.isnull().values.any()"
   ]
  },
  {
   "cell_type": "code",
   "execution_count": 7,
   "id": "d5602131-ef35-4d92-8881-b88aebe1ceb3",
   "metadata": {},
   "outputs": [
    {
     "data": {
      "text/html": [
       "<div>\n",
       "<style scoped>\n",
       "    .dataframe tbody tr th:only-of-type {\n",
       "        vertical-align: middle;\n",
       "    }\n",
       "\n",
       "    .dataframe tbody tr th {\n",
       "        vertical-align: top;\n",
       "    }\n",
       "\n",
       "    .dataframe thead th {\n",
       "        text-align: right;\n",
       "    }\n",
       "</style>\n",
       "<table border=\"1\" class=\"dataframe\">\n",
       "  <thead>\n",
       "    <tr style=\"text-align: right;\">\n",
       "      <th></th>\n",
       "      <th>Original Interest Rate</th>\n",
       "      <th>Current Interest Rate</th>\n",
       "      <th>Original UPB</th>\n",
       "      <th>UPB at Issuance</th>\n",
       "      <th>Current Actual UPB</th>\n",
       "      <th>Original Loan Term</th>\n",
       "      <th>Origination Date</th>\n",
       "      <th>First Payment Date</th>\n",
       "      <th>Loan Age</th>\n",
       "      <th>Remaining Months to Legal Maturity</th>\n",
       "      <th>...</th>\n",
       "      <th>hpg_2y</th>\n",
       "      <th>Property Type_CP</th>\n",
       "      <th>Property Type_MH</th>\n",
       "      <th>Property Type_PU</th>\n",
       "      <th>Property Type_SF</th>\n",
       "      <th>Loan Purpose_P</th>\n",
       "      <th>Loan Purpose_R</th>\n",
       "      <th>state_ca</th>\n",
       "      <th>state_tx</th>\n",
       "      <th>state_fl</th>\n",
       "    </tr>\n",
       "  </thead>\n",
       "  <tbody>\n",
       "    <tr>\n",
       "      <th>0</th>\n",
       "      <td>4.625</td>\n",
       "      <td>4.625</td>\n",
       "      <td>388000.0</td>\n",
       "      <td>384968.45</td>\n",
       "      <td>384968.45</td>\n",
       "      <td>360</td>\n",
       "      <td>42017</td>\n",
       "      <td>62017</td>\n",
       "      <td>6.0</td>\n",
       "      <td>354.0</td>\n",
       "      <td>...</td>\n",
       "      <td>0.115985</td>\n",
       "      <td>0</td>\n",
       "      <td>0</td>\n",
       "      <td>0</td>\n",
       "      <td>1</td>\n",
       "      <td>1</td>\n",
       "      <td>0</td>\n",
       "      <td>1</td>\n",
       "      <td>0</td>\n",
       "      <td>0</td>\n",
       "    </tr>\n",
       "    <tr>\n",
       "      <th>1</th>\n",
       "      <td>4.625</td>\n",
       "      <td>4.625</td>\n",
       "      <td>388000.0</td>\n",
       "      <td>384968.45</td>\n",
       "      <td>384456.32</td>\n",
       "      <td>360</td>\n",
       "      <td>42017</td>\n",
       "      <td>62017</td>\n",
       "      <td>7.0</td>\n",
       "      <td>353.0</td>\n",
       "      <td>...</td>\n",
       "      <td>0.118407</td>\n",
       "      <td>0</td>\n",
       "      <td>0</td>\n",
       "      <td>0</td>\n",
       "      <td>1</td>\n",
       "      <td>1</td>\n",
       "      <td>0</td>\n",
       "      <td>1</td>\n",
       "      <td>0</td>\n",
       "      <td>0</td>\n",
       "    </tr>\n",
       "    <tr>\n",
       "      <th>2</th>\n",
       "      <td>4.625</td>\n",
       "      <td>4.625</td>\n",
       "      <td>388000.0</td>\n",
       "      <td>384968.45</td>\n",
       "      <td>383942.22</td>\n",
       "      <td>360</td>\n",
       "      <td>42017</td>\n",
       "      <td>62017</td>\n",
       "      <td>8.0</td>\n",
       "      <td>352.0</td>\n",
       "      <td>...</td>\n",
       "      <td>0.120437</td>\n",
       "      <td>0</td>\n",
       "      <td>0</td>\n",
       "      <td>0</td>\n",
       "      <td>1</td>\n",
       "      <td>1</td>\n",
       "      <td>0</td>\n",
       "      <td>1</td>\n",
       "      <td>0</td>\n",
       "      <td>0</td>\n",
       "    </tr>\n",
       "    <tr>\n",
       "      <th>3</th>\n",
       "      <td>4.625</td>\n",
       "      <td>4.625</td>\n",
       "      <td>388000.0</td>\n",
       "      <td>384968.45</td>\n",
       "      <td>383426.14</td>\n",
       "      <td>360</td>\n",
       "      <td>42017</td>\n",
       "      <td>62017</td>\n",
       "      <td>9.0</td>\n",
       "      <td>351.0</td>\n",
       "      <td>...</td>\n",
       "      <td>0.123372</td>\n",
       "      <td>0</td>\n",
       "      <td>0</td>\n",
       "      <td>0</td>\n",
       "      <td>1</td>\n",
       "      <td>1</td>\n",
       "      <td>0</td>\n",
       "      <td>1</td>\n",
       "      <td>0</td>\n",
       "      <td>0</td>\n",
       "    </tr>\n",
       "    <tr>\n",
       "      <th>4</th>\n",
       "      <td>4.625</td>\n",
       "      <td>4.625</td>\n",
       "      <td>388000.0</td>\n",
       "      <td>384968.45</td>\n",
       "      <td>382909.07</td>\n",
       "      <td>360</td>\n",
       "      <td>42017</td>\n",
       "      <td>62017</td>\n",
       "      <td>10.0</td>\n",
       "      <td>350.0</td>\n",
       "      <td>...</td>\n",
       "      <td>0.124420</td>\n",
       "      <td>0</td>\n",
       "      <td>0</td>\n",
       "      <td>0</td>\n",
       "      <td>1</td>\n",
       "      <td>1</td>\n",
       "      <td>0</td>\n",
       "      <td>1</td>\n",
       "      <td>0</td>\n",
       "      <td>0</td>\n",
       "    </tr>\n",
       "  </tbody>\n",
       "</table>\n",
       "<p>5 rows × 61 columns</p>\n",
       "</div>"
      ],
      "text/plain": [
       "   Original Interest Rate  Current Interest Rate  Original UPB  \\\n",
       "0                   4.625                  4.625      388000.0   \n",
       "1                   4.625                  4.625      388000.0   \n",
       "2                   4.625                  4.625      388000.0   \n",
       "3                   4.625                  4.625      388000.0   \n",
       "4                   4.625                  4.625      388000.0   \n",
       "\n",
       "   UPB at Issuance  Current Actual UPB  Original Loan Term  Origination Date  \\\n",
       "0        384968.45           384968.45                 360             42017   \n",
       "1        384968.45           384456.32                 360             42017   \n",
       "2        384968.45           383942.22                 360             42017   \n",
       "3        384968.45           383426.14                 360             42017   \n",
       "4        384968.45           382909.07                 360             42017   \n",
       "\n",
       "   First Payment Date  Loan Age  Remaining Months to Legal Maturity  ...  \\\n",
       "0               62017       6.0                               354.0  ...   \n",
       "1               62017       7.0                               353.0  ...   \n",
       "2               62017       8.0                               352.0  ...   \n",
       "3               62017       9.0                               351.0  ...   \n",
       "4               62017      10.0                               350.0  ...   \n",
       "\n",
       "     hpg_2y  Property Type_CP  Property Type_MH  Property Type_PU  \\\n",
       "0  0.115985                 0                 0                 0   \n",
       "1  0.118407                 0                 0                 0   \n",
       "2  0.120437                 0                 0                 0   \n",
       "3  0.123372                 0                 0                 0   \n",
       "4  0.124420                 0                 0                 0   \n",
       "\n",
       "   Property Type_SF  Loan Purpose_P  Loan Purpose_R  state_ca  state_tx  \\\n",
       "0                 1               1               0         1         0   \n",
       "1                 1               1               0         1         0   \n",
       "2                 1               1               0         1         0   \n",
       "3                 1               1               0         1         0   \n",
       "4                 1               1               0         1         0   \n",
       "\n",
       "   state_fl  \n",
       "0         0  \n",
       "1         0  \n",
       "2         0  \n",
       "3         0  \n",
       "4         0  \n",
       "\n",
       "[5 rows x 61 columns]"
      ]
     },
     "execution_count": 7,
     "metadata": {},
     "output_type": "execute_result"
    }
   ],
   "source": [
    "X_train_final.head()"
   ]
  },
  {
   "cell_type": "markdown",
   "id": "5b40bee1-bfed-4f23-b626-f2ec03d4f35f",
   "metadata": {},
   "source": [
    "# model fitting"
   ]
  },
  {
   "cell_type": "code",
   "execution_count": 8,
   "id": "f2feacba-2bc6-4fa4-9aa3-3783a5b36385",
   "metadata": {},
   "outputs": [],
   "source": [
    "from sklearn import tree"
   ]
  },
  {
   "cell_type": "code",
   "execution_count": 10,
   "id": "658dcf88-ad22-4c5a-8467-43c25b28e190",
   "metadata": {},
   "outputs": [],
   "source": [
    "clf = tree.DecisionTreeClassifier(criterion='entropy', max_depth=30, random_state=0)"
   ]
  },
  {
   "cell_type": "code",
   "execution_count": 11,
   "id": "9eb0176e-cea8-4f22-94c9-ddac5ee7270f",
   "metadata": {},
   "outputs": [
    {
     "data": {
      "text/html": [
       "<style>#sk-container-id-1 {color: black;}#sk-container-id-1 pre{padding: 0;}#sk-container-id-1 div.sk-toggleable {background-color: white;}#sk-container-id-1 label.sk-toggleable__label {cursor: pointer;display: block;width: 100%;margin-bottom: 0;padding: 0.3em;box-sizing: border-box;text-align: center;}#sk-container-id-1 label.sk-toggleable__label-arrow:before {content: \"▸\";float: left;margin-right: 0.25em;color: #696969;}#sk-container-id-1 label.sk-toggleable__label-arrow:hover:before {color: black;}#sk-container-id-1 div.sk-estimator:hover label.sk-toggleable__label-arrow:before {color: black;}#sk-container-id-1 div.sk-toggleable__content {max-height: 0;max-width: 0;overflow: hidden;text-align: left;background-color: #f0f8ff;}#sk-container-id-1 div.sk-toggleable__content pre {margin: 0.2em;color: black;border-radius: 0.25em;background-color: #f0f8ff;}#sk-container-id-1 input.sk-toggleable__control:checked~div.sk-toggleable__content {max-height: 200px;max-width: 100%;overflow: auto;}#sk-container-id-1 input.sk-toggleable__control:checked~label.sk-toggleable__label-arrow:before {content: \"▾\";}#sk-container-id-1 div.sk-estimator input.sk-toggleable__control:checked~label.sk-toggleable__label {background-color: #d4ebff;}#sk-container-id-1 div.sk-label input.sk-toggleable__control:checked~label.sk-toggleable__label {background-color: #d4ebff;}#sk-container-id-1 input.sk-hidden--visually {border: 0;clip: rect(1px 1px 1px 1px);clip: rect(1px, 1px, 1px, 1px);height: 1px;margin: -1px;overflow: hidden;padding: 0;position: absolute;width: 1px;}#sk-container-id-1 div.sk-estimator {font-family: monospace;background-color: #f0f8ff;border: 1px dotted black;border-radius: 0.25em;box-sizing: border-box;margin-bottom: 0.5em;}#sk-container-id-1 div.sk-estimator:hover {background-color: #d4ebff;}#sk-container-id-1 div.sk-parallel-item::after {content: \"\";width: 100%;border-bottom: 1px solid gray;flex-grow: 1;}#sk-container-id-1 div.sk-label:hover label.sk-toggleable__label {background-color: #d4ebff;}#sk-container-id-1 div.sk-serial::before {content: \"\";position: absolute;border-left: 1px solid gray;box-sizing: border-box;top: 0;bottom: 0;left: 50%;z-index: 0;}#sk-container-id-1 div.sk-serial {display: flex;flex-direction: column;align-items: center;background-color: white;padding-right: 0.2em;padding-left: 0.2em;position: relative;}#sk-container-id-1 div.sk-item {position: relative;z-index: 1;}#sk-container-id-1 div.sk-parallel {display: flex;align-items: stretch;justify-content: center;background-color: white;position: relative;}#sk-container-id-1 div.sk-item::before, #sk-container-id-1 div.sk-parallel-item::before {content: \"\";position: absolute;border-left: 1px solid gray;box-sizing: border-box;top: 0;bottom: 0;left: 50%;z-index: -1;}#sk-container-id-1 div.sk-parallel-item {display: flex;flex-direction: column;z-index: 1;position: relative;background-color: white;}#sk-container-id-1 div.sk-parallel-item:first-child::after {align-self: flex-end;width: 50%;}#sk-container-id-1 div.sk-parallel-item:last-child::after {align-self: flex-start;width: 50%;}#sk-container-id-1 div.sk-parallel-item:only-child::after {width: 0;}#sk-container-id-1 div.sk-dashed-wrapped {border: 1px dashed gray;margin: 0 0.4em 0.5em 0.4em;box-sizing: border-box;padding-bottom: 0.4em;background-color: white;}#sk-container-id-1 div.sk-label label {font-family: monospace;font-weight: bold;display: inline-block;line-height: 1.2em;}#sk-container-id-1 div.sk-label-container {text-align: center;}#sk-container-id-1 div.sk-container {/* jupyter's `normalize.less` sets `[hidden] { display: none; }` but bootstrap.min.css set `[hidden] { display: none !important; }` so we also need the `!important` here to be able to override the default hidden behavior on the sphinx rendered scikit-learn.org. See: https://github.com/scikit-learn/scikit-learn/issues/21755 */display: inline-block !important;position: relative;}#sk-container-id-1 div.sk-text-repr-fallback {display: none;}</style><div id=\"sk-container-id-1\" class=\"sk-top-container\"><div class=\"sk-text-repr-fallback\"><pre>DecisionTreeClassifier(criterion=&#x27;entropy&#x27;, max_depth=30, random_state=0)</pre><b>In a Jupyter environment, please rerun this cell to show the HTML representation or trust the notebook. <br />On GitHub, the HTML representation is unable to render, please try loading this page with nbviewer.org.</b></div><div class=\"sk-container\" hidden><div class=\"sk-item\"><div class=\"sk-estimator sk-toggleable\"><input class=\"sk-toggleable__control sk-hidden--visually\" id=\"sk-estimator-id-1\" type=\"checkbox\" checked><label for=\"sk-estimator-id-1\" class=\"sk-toggleable__label sk-toggleable__label-arrow\">DecisionTreeClassifier</label><div class=\"sk-toggleable__content\"><pre>DecisionTreeClassifier(criterion=&#x27;entropy&#x27;, max_depth=30, random_state=0)</pre></div></div></div></div></div>"
      ],
      "text/plain": [
       "DecisionTreeClassifier(criterion='entropy', max_depth=30, random_state=0)"
      ]
     },
     "execution_count": 11,
     "metadata": {},
     "output_type": "execute_result"
    }
   ],
   "source": [
    "clf.fit(X_train_final.select_dtypes(exclude='object'), y_train)"
   ]
  },
  {
   "cell_type": "markdown",
   "id": "8cc03e91-cd39-4c38-9692-8d9be9d994c3",
   "metadata": {},
   "source": [
    "### view the tree"
   ]
  },
  {
   "cell_type": "code",
   "execution_count": 12,
   "id": "e27c7093-45e0-4776-99b1-454eac3ab102",
   "metadata": {},
   "outputs": [],
   "source": [
    "feature_names = list( X_train_final.select_dtypes(exclude='object').columns)"
   ]
  },
  {
   "cell_type": "code",
   "execution_count": 13,
   "id": "2d7d08fd-5450-40f0-8fea-0dd167d032ec",
   "metadata": {},
   "outputs": [],
   "source": [
    "with open('tree.txt', 'w+') as f:\n",
    "    f.write(tree.export_text(clf,feature_names=feature_names))"
   ]
  },
  {
   "cell_type": "code",
   "execution_count": 14,
   "id": "97687b08-7a96-4d02-bab7-039e2640f371",
   "metadata": {},
   "outputs": [
    {
     "data": {
      "text/plain": [
       "30"
      ]
     },
     "execution_count": 14,
     "metadata": {},
     "output_type": "execute_result"
    }
   ],
   "source": [
    "clf.get_depth()"
   ]
  },
  {
   "cell_type": "code",
   "execution_count": 15,
   "id": "2ae66773-be39-4344-95eb-186f151b21ec",
   "metadata": {},
   "outputs": [
    {
     "data": {
      "text/plain": [
       "13485"
      ]
     },
     "execution_count": 15,
     "metadata": {},
     "output_type": "execute_result"
    }
   ],
   "source": [
    "clf.get_n_leaves()"
   ]
  },
  {
   "cell_type": "code",
   "execution_count": 16,
   "id": "8a00de1b-571d-448e-bb6f-7cfc712431e8",
   "metadata": {},
   "outputs": [
    {
     "data": {
      "text/plain": [
       "(789358, 61)"
      ]
     },
     "execution_count": 16,
     "metadata": {},
     "output_type": "execute_result"
    }
   ],
   "source": [
    "X_train_final.shape"
   ]
  },
  {
   "cell_type": "markdown",
   "id": "c1e6666a-de88-4341-b482-264df1cbf993",
   "metadata": {},
   "source": [
    "# model performance: in-sample"
   ]
  },
  {
   "cell_type": "markdown",
   "id": "f46ce5c5-7123-4b11-b6fe-a8ef9a9ef56e",
   "metadata": {},
   "source": [
    "## 1. accuracy"
   ]
  },
  {
   "cell_type": "code",
   "execution_count": 17,
   "id": "da48039b-09e2-4818-bd97-56a3dfc607a4",
   "metadata": {},
   "outputs": [],
   "source": [
    "from sklearn.metrics import accuracy_score\n",
    "from sklearn.metrics import confusion_matrix"
   ]
  },
  {
   "cell_type": "code",
   "execution_count": 18,
   "id": "3062d093-4ead-4c27-b982-a12f4b4dcbbe",
   "metadata": {},
   "outputs": [],
   "source": [
    "y_pred = clf.predict(X_train_final.select_dtypes(exclude='object'))"
   ]
  },
  {
   "cell_type": "code",
   "execution_count": 19,
   "id": "aadc0b11-26b3-408b-82b8-e3be98dd544b",
   "metadata": {},
   "outputs": [
    {
     "data": {
      "text/plain": [
       "0.9959448057788735"
      ]
     },
     "execution_count": 19,
     "metadata": {},
     "output_type": "execute_result"
    }
   ],
   "source": [
    "accuracy_score(y_train, y_pred)"
   ]
  },
  {
   "cell_type": "code",
   "execution_count": 20,
   "id": "4d155f50-8d18-4d38-8a65-490d94b1ecec",
   "metadata": {},
   "outputs": [
    {
     "data": {
      "text/plain": [
       "(array([False,  True]), array([781168,   8190]))"
      ]
     },
     "execution_count": 20,
     "metadata": {},
     "output_type": "execute_result"
    }
   ],
   "source": [
    "np.unique(y_pred, return_counts=True)  "
   ]
  },
  {
   "cell_type": "code",
   "execution_count": 21,
   "id": "eb7b5b70-794f-4c9c-b073-da6263ce76d9",
   "metadata": {},
   "outputs": [
    {
     "data": {
      "text/plain": [
       "(array([False,  True]), array([778101,  11257]))"
      ]
     },
     "execution_count": 21,
     "metadata": {},
     "output_type": "execute_result"
    }
   ],
   "source": [
    "np.unique(y_train, return_counts=True)  "
   ]
  },
  {
   "cell_type": "code",
   "execution_count": 22,
   "id": "45b4a767-4239-4a55-82d3-41824ab571db",
   "metadata": {},
   "outputs": [
    {
     "data": {
      "text/plain": [
       "0.9857390436278596"
      ]
     },
     "execution_count": 22,
     "metadata": {},
     "output_type": "execute_result"
    }
   ],
   "source": [
    "778101 / (778101+11257)"
   ]
  },
  {
   "cell_type": "markdown",
   "id": "5ed1d3f2-04e1-4e8c-9b7b-68a915a88a78",
   "metadata": {},
   "source": [
    "## 2. confusion matrix"
   ]
  },
  {
   "cell_type": "code",
   "execution_count": 23,
   "id": "38ec32c0-3e99-4d04-ab80-52bf3f97e8ad",
   "metadata": {},
   "outputs": [
    {
     "data": {
      "text/plain": [
       "array([[778034,     67],\n",
       "       [  3134,   8123]])"
      ]
     },
     "execution_count": 23,
     "metadata": {},
     "output_type": "execute_result"
    }
   ],
   "source": [
    "confusion_matrix(y_train, y_pred)"
   ]
  },
  {
   "cell_type": "markdown",
   "id": "8111a118-7fa1-40b1-96bd-7542d20db08d",
   "metadata": {},
   "source": [
    "# model performance: out-of-sample"
   ]
  },
  {
   "cell_type": "code",
   "execution_count": 24,
   "id": "12134b8f-a595-4904-ba2b-3ad8ddabc014",
   "metadata": {},
   "outputs": [
    {
     "name": "stdout",
     "output_type": "stream",
     "text": [
      "float64\n",
      "float64\n",
      "float64\n",
      "float64\n",
      "float64\n",
      "float64\n",
      "float64\n",
      "float64\n",
      "float64\n",
      "object\n",
      "object\n",
      "object\n"
     ]
    }
   ],
   "source": [
    "X_test_final = transformation_pipeline(X_test,vars_impute_mean, vars_impute_constant)"
   ]
  },
  {
   "cell_type": "code",
   "execution_count": 25,
   "id": "9cd09904-9282-4be1-a0de-57f758213c41",
   "metadata": {},
   "outputs": [],
   "source": [
    "y_test_pred = clf.predict(X_test_final.select_dtypes(exclude='object'))"
   ]
  },
  {
   "cell_type": "code",
   "execution_count": 26,
   "id": "e2be8aca-cf07-4483-89a3-cb4d1bd68e66",
   "metadata": {},
   "outputs": [
    {
     "data": {
      "text/plain": [
       "0.9670494778495136"
      ]
     },
     "execution_count": 26,
     "metadata": {},
     "output_type": "execute_result"
    }
   ],
   "source": [
    "accuracy_score(y_test, y_test_pred)"
   ]
  },
  {
   "cell_type": "code",
   "execution_count": 29,
   "id": "d4bc031c-bfa8-443f-a91d-529916d67689",
   "metadata": {},
   "outputs": [
    {
     "data": {
      "text/plain": [
       "(array([False,  True]), array([329502,   6608]))"
      ]
     },
     "execution_count": 29,
     "metadata": {},
     "output_type": "execute_result"
    }
   ],
   "source": [
    "np.unique(y_test_pred, return_counts=True)  "
   ]
  },
  {
   "cell_type": "code",
   "execution_count": 30,
   "id": "ef72f021-d268-4fa2-9457-128de974f348",
   "metadata": {},
   "outputs": [
    {
     "data": {
      "text/plain": [
       "(array([False,  True]), array([331233,   4877]))"
      ]
     },
     "execution_count": 30,
     "metadata": {},
     "output_type": "execute_result"
    }
   ],
   "source": [
    "np.unique(y_test, return_counts=True)  "
   ]
  },
  {
   "cell_type": "code",
   "execution_count": 31,
   "id": "eac25c6a-71ed-4da5-8aff-3fc2aed6b178",
   "metadata": {},
   "outputs": [
    {
     "data": {
      "text/plain": [
       "0.985489869387998"
      ]
     },
     "execution_count": 31,
     "metadata": {},
     "output_type": "execute_result"
    }
   ],
   "source": [
    "331233 / (331233+4877)"
   ]
  },
  {
   "cell_type": "code",
   "execution_count": 27,
   "id": "28bda4de-5faf-4b6a-a06c-52bc6e55a7d0",
   "metadata": {},
   "outputs": [
    {
     "data": {
      "text/plain": [
       "array([[324830,   6403],\n",
       "       [  4672,    205]])"
      ]
     },
     "execution_count": 27,
     "metadata": {},
     "output_type": "execute_result"
    }
   ],
   "source": [
    "confusion_matrix(y_test, y_test_pred)"
   ]
  },
  {
   "cell_type": "markdown",
   "id": "12557d21-980f-4988-8b96-3aeaefd2f4a2",
   "metadata": {},
   "source": [
    "# pruning"
   ]
  },
  {
   "cell_type": "code",
   "execution_count": 32,
   "id": "df51ee04-dd3b-462f-85a0-dac46acc442f",
   "metadata": {},
   "outputs": [],
   "source": [
    "import sklearn.model_selection as skm"
   ]
  },
  {
   "cell_type": "code",
   "execution_count": 33,
   "id": "811735a6-e537-4e90-a425-35bdcda58279",
   "metadata": {},
   "outputs": [],
   "source": [
    "import matplotlib.pyplot as plt"
   ]
  },
  {
   "cell_type": "code",
   "execution_count": 34,
   "id": "7f011cb2-1df8-443f-926d-64a0596608e6",
   "metadata": {},
   "outputs": [],
   "source": [
    "ccp_path = clf.cost_complexity_pruning_path(X_train_final.select_dtypes(exclude='object'), y_train) \n",
    "kfold = skm.KFold(10, random_state=1, shuffle=True)"
   ]
  },
  {
   "cell_type": "code",
   "execution_count": 35,
   "id": "f2864674-b62a-4bb0-b739-cb6a55b74467",
   "metadata": {},
   "outputs": [],
   "source": [
    "ccp_alphas, impurities = ccp_path.ccp_alphas, ccp_path.impurities"
   ]
  },
  {
   "cell_type": "code",
   "execution_count": 36,
   "id": "7bafcd86-909a-48c1-8bdd-14388113eb31",
   "metadata": {
    "scrolled": true
   },
   "outputs": [
    {
     "data": {
      "text/plain": [
       "array([0.00000000e+00, 1.57737364e-06, 1.57737364e-06, ...,\n",
       "       4.65910272e-04, 1.03375767e-03, 5.02241490e-03])"
      ]
     },
     "execution_count": 36,
     "metadata": {},
     "output_type": "execute_result"
    }
   ],
   "source": [
    "ccp_alphas"
   ]
  },
  {
   "cell_type": "code",
   "execution_count": 37,
   "id": "80c7531c-5db2-4ae0-865b-4ba41087cfbd",
   "metadata": {},
   "outputs": [
    {
     "data": {
      "text/plain": [
       "6233"
      ]
     },
     "execution_count": 37,
     "metadata": {},
     "output_type": "execute_result"
    }
   ],
   "source": [
    "len(ccp_alphas)"
   ]
  },
  {
   "cell_type": "code",
   "execution_count": 38,
   "id": "f194874f-615b-452b-91ea-b9212221ed5e",
   "metadata": {},
   "outputs": [
    {
     "data": {
      "text/plain": [
       "Text(0.5, 1.0, 'Total Impurity vs effective alpha for training set')"
      ]
     },
     "execution_count": 38,
     "metadata": {},
     "output_type": "execute_result"
    },
    {
     "data": {
      "image/png": "[encoded data removed]",
      "text/plain": [
       "<Figure size 640x480 with 1 Axes>"
      ]
     },
     "metadata": {},
     "output_type": "display_data"
    }
   ],
   "source": [
    "fig, ax = plt.subplots()\n",
    "ax.plot(ccp_alphas[:-10], impurities[:-10], marker=\"o\", drawstyle=\"steps-post\")\n",
    "#ax.plot(ccp_alphas, impurities, marker=\"o\", drawstyle=\"steps-post\")\n",
    "ax.set_xlabel(\"effective alpha\")\n",
    "ax.set_ylabel(\"total impurity of leaves\")\n",
    "ax.set_title(\"Total Impurity vs effective alpha for training set\")"
   ]
  },
  {
   "cell_type": "code",
   "execution_count": 39,
   "id": "8569f2b7-c888-4323-91dc-768635128747",
   "metadata": {},
   "outputs": [],
   "source": [
    "ccp_alphas_small = [x / 2e6 for x in range(20)]"
   ]
  },
  {
   "cell_type": "code",
   "execution_count": 40,
   "id": "341832d5-b536-4ea6-a322-5d381c7238b1",
   "metadata": {},
   "outputs": [
    {
     "data": {
      "text/plain": [
       "[0.0,\n",
       " 5e-07,\n",
       " 1e-06,\n",
       " 1.5e-06,\n",
       " 2e-06,\n",
       " 2.5e-06,\n",
       " 3e-06,\n",
       " 3.5e-06,\n",
       " 4e-06,\n",
       " 4.5e-06,\n",
       " 5e-06,\n",
       " 5.5e-06,\n",
       " 6e-06,\n",
       " 6.5e-06,\n",
       " 7e-06,\n",
       " 7.5e-06,\n",
       " 8e-06,\n",
       " 8.5e-06,\n",
       " 9e-06,\n",
       " 9.5e-06]"
      ]
     },
     "execution_count": 40,
     "metadata": {},
     "output_type": "execute_result"
    }
   ],
   "source": [
    "ccp_alphas_small"
   ]
  },
  {
   "cell_type": "code",
   "execution_count": 185,
   "id": "51c19288-9a53-4b5a-86fa-82e99a6587a5",
   "metadata": {},
   "outputs": [],
   "source": [
    "clfs = []\n",
    "for ccp_alpha in ccp_alphas_small:\n",
    "    clf = tree.DecisionTreeClassifier(random_state=0, ccp_alpha=ccp_alpha)\n",
    "    clf.fit(X_train_final.select_dtypes(exclude='object'), y_train)\n",
    "    clfs.append(clf)"
   ]
  },
  {
   "cell_type": "code",
   "execution_count": 187,
   "id": "79bab3ac-b004-481c-9b4a-6f2876b8485c",
   "metadata": {},
   "outputs": [
    {
     "data": {
      "image/png": "[encoded data removed]",
      "text/plain": [
       "<Figure size 640x480 with 2 Axes>"
      ]
     },
     "metadata": {},
     "output_type": "display_data"
    }
   ],
   "source": [
    "node_counts = [clf.tree_.node_count for clf in clfs]\n",
    "depth = [clf.tree_.max_depth for clf in clfs]\n",
    "fig, ax = plt.subplots(2, 1)\n",
    "ax[0].plot(ccp_alphas_small, node_counts, marker=\"o\", drawstyle=\"steps-post\")\n",
    "ax[0].set_xlabel(\"alpha\")\n",
    "ax[0].set_ylabel(\"number of nodes\")\n",
    "ax[0].set_title(\"Number of nodes vs alpha\")\n",
    "ax[1].plot(ccp_alphas_small, depth, marker=\"o\", drawstyle=\"steps-post\")\n",
    "ax[1].set_xlabel(\"alpha\")\n",
    "ax[1].set_ylabel(\"depth of tree\")\n",
    "ax[1].set_title(\"Depth vs alpha\")\n",
    "fig.tight_layout()"
   ]
  },
  {
   "cell_type": "code",
   "execution_count": 188,
   "id": "61944b0d-05dd-4644-b58c-fb6b08d20d04",
   "metadata": {},
   "outputs": [
    {
     "data": {
      "image/png": "[encoded data removed]",
      "text/plain": [
       "<Figure size 640x480 with 1 Axes>"
      ]
     },
     "metadata": {},
     "output_type": "display_data"
    }
   ],
   "source": [
    "train_scores = [clf.score(X_train_final.select_dtypes(exclude='object'), y_train) for clf in clfs]\n",
    "test_scores = [clf.score(X_test_final.select_dtypes(exclude='object'), y_test) for clf in clfs]\n",
    "\n",
    "fig, ax = plt.subplots()\n",
    "ax.set_xlabel(\"alpha\")\n",
    "ax.set_ylabel(\"accuracy\")\n",
    "ax.set_title(\"Accuracy vs alpha for training and testing sets\")\n",
    "ax.plot(ccp_alphas_small, train_scores, marker=\"o\", label=\"train\", drawstyle=\"steps-post\")\n",
    "ax.plot(ccp_alphas_small, test_scores, marker=\"o\", label=\"test\", drawstyle=\"steps-post\")\n",
    "ax.legend()\n",
    "plt.show()"
   ]
  },
  {
   "cell_type": "markdown",
   "id": "5a1c6337-0ccb-4cdf-b430-f506c9e1b849",
   "metadata": {},
   "source": [
    "# a customized, alternative metric"
   ]
  },
  {
   "cell_type": "code",
   "execution_count": 179,
   "id": "81682892-fcc9-468d-a0f9-92ecea3de408",
   "metadata": {},
   "outputs": [],
   "source": [
    "def customized_metric(X, y, model):\n",
    "    y_pred = model.predict(X)\n",
    "    y_pred_mean=y_pred.mean()\n",
    "    y_mean = y.mean()\n",
    "    score = abs(y_mean - y_pred_mean)\n",
    "    return score\n",
    "    "
   ]
  },
  {
   "cell_type": "code",
   "execution_count": 189,
   "id": "d0ffdcb1-7256-413e-9134-5c94079d6974",
   "metadata": {},
   "outputs": [],
   "source": [
    "train_scores_alt = [customized_metric(X_train_final.select_dtypes(exclude='object'), y_train, clf) for clf in clfs]\n",
    "test_scores_alt = [customized_metric(X_test_final.select_dtypes(exclude='object'), y_test, clf) for clf in clfs]\n"
   ]
  },
  {
   "cell_type": "code",
   "execution_count": 190,
   "id": "c2e24217-35c2-4adf-9605-6d6506b726ff",
   "metadata": {},
   "outputs": [
    {
     "data": {
      "image/png": "[encoded data removed]",
      "text/plain": [
       "<Figure size 640x480 with 1 Axes>"
      ]
     },
     "metadata": {},
     "output_type": "display_data"
    }
   ],
   "source": [
    "fig, ax = plt.subplots()\n",
    "ax.set_xlabel(\"alpha\")\n",
    "ax.set_ylabel(\"mean prepay error\")\n",
    "ax.set_title(\"Mean error vs alpha for training and testing sets\")\n",
    "ax.plot(ccp_alphas_small, train_scores_alt, marker=\"o\", label=\"train\", drawstyle=\"steps-post\")\n",
    "ax.plot(ccp_alphas_small, test_scores_alt, marker=\"o\", label=\"test\", drawstyle=\"steps-post\")\n",
    "ax.legend()\n",
    "plt.show()"
   ]
  },
  {
   "cell_type": "markdown",
   "id": "8c244498-52d0-4a9e-b8ce-e21e97c88171",
   "metadata": {},
   "source": [
    "# re-fit the model using pruned alpha"
   ]
  },
  {
   "cell_type": "code",
   "execution_count": 197,
   "id": "4a3232b6-0deb-431b-8678-5fb3da19af48",
   "metadata": {},
   "outputs": [],
   "source": [
    "alpha_chosen = 1.5e-6"
   ]
  },
  {
   "cell_type": "code",
   "execution_count": 203,
   "id": "ea977125-8241-459d-8afe-dd3edbbac00d",
   "metadata": {},
   "outputs": [],
   "source": [
    "clf_final = tree.DecisionTreeClassifier(criterion='gini', ccp_alpha=alpha_chosen, random_state=0)"
   ]
  },
  {
   "cell_type": "code",
   "execution_count": 204,
   "id": "9f9fe356-4189-4514-9894-a5e567fecbfe",
   "metadata": {},
   "outputs": [
    {
     "data": {
      "text/html": [
       "<style>#sk-container-id-8 {color: black;}#sk-container-id-8 pre{padding: 0;}#sk-container-id-8 div.sk-toggleable {background-color: white;}#sk-container-id-8 label.sk-toggleable__label {cursor: pointer;display: block;width: 100%;margin-bottom: 0;padding: 0.3em;box-sizing: border-box;text-align: center;}#sk-container-id-8 label.sk-toggleable__label-arrow:before {content: \"▸\";float: left;margin-right: 0.25em;color: #696969;}#sk-container-id-8 label.sk-toggleable__label-arrow:hover:before {color: black;}#sk-container-id-8 div.sk-estimator:hover label.sk-toggleable__label-arrow:before {color: black;}#sk-container-id-8 div.sk-toggleable__content {max-height: 0;max-width: 0;overflow: hidden;text-align: left;background-color: #f0f8ff;}#sk-container-id-8 div.sk-toggleable__content pre {margin: 0.2em;color: black;border-radius: 0.25em;background-color: #f0f8ff;}#sk-container-id-8 input.sk-toggleable__control:checked~div.sk-toggleable__content {max-height: 200px;max-width: 100%;overflow: auto;}#sk-container-id-8 input.sk-toggleable__control:checked~label.sk-toggleable__label-arrow:before {content: \"▾\";}#sk-container-id-8 div.sk-estimator input.sk-toggleable__control:checked~label.sk-toggleable__label {background-color: #d4ebff;}#sk-container-id-8 div.sk-label input.sk-toggleable__control:checked~label.sk-toggleable__label {background-color: #d4ebff;}#sk-container-id-8 input.sk-hidden--visually {border: 0;clip: rect(1px 1px 1px 1px);clip: rect(1px, 1px, 1px, 1px);height: 1px;margin: -1px;overflow: hidden;padding: 0;position: absolute;width: 1px;}#sk-container-id-8 div.sk-estimator {font-family: monospace;background-color: #f0f8ff;border: 1px dotted black;border-radius: 0.25em;box-sizing: border-box;margin-bottom: 0.5em;}#sk-container-id-8 div.sk-estimator:hover {background-color: #d4ebff;}#sk-container-id-8 div.sk-parallel-item::after {content: \"\";width: 100%;border-bottom: 1px solid gray;flex-grow: 1;}#sk-container-id-8 div.sk-label:hover label.sk-toggleable__label {background-color: #d4ebff;}#sk-container-id-8 div.sk-serial::before {content: \"\";position: absolute;border-left: 1px solid gray;box-sizing: border-box;top: 0;bottom: 0;left: 50%;z-index: 0;}#sk-container-id-8 div.sk-serial {display: flex;flex-direction: column;align-items: center;background-color: white;padding-right: 0.2em;padding-left: 0.2em;position: relative;}#sk-container-id-8 div.sk-item {position: relative;z-index: 1;}#sk-container-id-8 div.sk-parallel {display: flex;align-items: stretch;justify-content: center;background-color: white;position: relative;}#sk-container-id-8 div.sk-item::before, #sk-container-id-8 div.sk-parallel-item::before {content: \"\";position: absolute;border-left: 1px solid gray;box-sizing: border-box;top: 0;bottom: 0;left: 50%;z-index: -1;}#sk-container-id-8 div.sk-parallel-item {display: flex;flex-direction: column;z-index: 1;position: relative;background-color: white;}#sk-container-id-8 div.sk-parallel-item:first-child::after {align-self: flex-end;width: 50%;}#sk-container-id-8 div.sk-parallel-item:last-child::after {align-self: flex-start;width: 50%;}#sk-container-id-8 div.sk-parallel-item:only-child::after {width: 0;}#sk-container-id-8 div.sk-dashed-wrapped {border: 1px dashed gray;margin: 0 0.4em 0.5em 0.4em;box-sizing: border-box;padding-bottom: 0.4em;background-color: white;}#sk-container-id-8 div.sk-label label {font-family: monospace;font-weight: bold;display: inline-block;line-height: 1.2em;}#sk-container-id-8 div.sk-label-container {text-align: center;}#sk-container-id-8 div.sk-container {/* jupyter's `normalize.less` sets `[hidden] { display: none; }` but bootstrap.min.css set `[hidden] { display: none !important; }` so we also need the `!important` here to be able to override the default hidden behavior on the sphinx rendered scikit-learn.org. See: https://github.com/scikit-learn/scikit-learn/issues/21755 */display: inline-block !important;position: relative;}#sk-container-id-8 div.sk-text-repr-fallback {display: none;}</style><div id=\"sk-container-id-8\" class=\"sk-top-container\"><div class=\"sk-text-repr-fallback\"><pre>DecisionTreeClassifier(ccp_alpha=1.5e-06, random_state=0)</pre><b>In a Jupyter environment, please rerun this cell to show the HTML representation or trust the notebook. <br />On GitHub, the HTML representation is unable to render, please try loading this page with nbviewer.org.</b></div><div class=\"sk-container\" hidden><div class=\"sk-item\"><div class=\"sk-estimator sk-toggleable\"><input class=\"sk-toggleable__control sk-hidden--visually\" id=\"sk-estimator-id-8\" type=\"checkbox\" checked><label for=\"sk-estimator-id-8\" class=\"sk-toggleable__label sk-toggleable__label-arrow\">DecisionTreeClassifier</label><div class=\"sk-toggleable__content\"><pre>DecisionTreeClassifier(ccp_alpha=1.5e-06, random_state=0)</pre></div></div></div></div></div>"
      ],
      "text/plain": [
       "DecisionTreeClassifier(ccp_alpha=1.5e-06, random_state=0)"
      ]
     },
     "execution_count": 204,
     "metadata": {},
     "output_type": "execute_result"
    }
   ],
   "source": [
    "clf_final.fit(X_train_final.select_dtypes(exclude='object'), y_train)"
   ]
  },
  {
   "cell_type": "code",
   "execution_count": 200,
   "id": "9c6a221d-7369-4626-8127-9d210c8c6d61",
   "metadata": {},
   "outputs": [],
   "source": [
    "y_test_pred = clf_final.predict(X_test_final.select_dtypes(exclude='object'))"
   ]
  },
  {
   "cell_type": "code",
   "execution_count": 201,
   "id": "a66f5687-cacb-425d-bc39-57a0eaaabd13",
   "metadata": {},
   "outputs": [
    {
     "data": {
      "text/plain": [
       "array([[322642,   8591],\n",
       "       [  4602,    275]])"
      ]
     },
     "execution_count": 201,
     "metadata": {},
     "output_type": "execute_result"
    }
   ],
   "source": [
    "confusion_matrix(y_test, y_test_pred)"
   ]
  },
  {
   "cell_type": "code",
   "execution_count": 205,
   "id": "04aba640-40b1-40ff-bd5c-635b11422962",
   "metadata": {},
   "outputs": [
    {
     "data": {
      "text/plain": [
       "0.003605962333759781"
      ]
     },
     "execution_count": 205,
     "metadata": {},
     "output_type": "execute_result"
    }
   ],
   "source": [
    "customized_metric(X_test_final.select_dtypes(exclude='object'), y_test, clf_final)"
   ]
  },
  {
   "cell_type": "code",
   "execution_count": 208,
   "id": "39c773ce-2c28-46be-8316-e9e5c930d793",
   "metadata": {},
   "outputs": [],
   "source": [
    "#view the tree\n",
    "with open('tree_final.txt', 'w+') as f:\n",
    "    f.write(tree.export_text(clf_final,feature_names=feature_names, show_weights=True))"
   ]
  },
  {
   "cell_type": "code",
   "execution_count": 210,
   "id": "8acd923f-9ee3-437e-ab12-0cf03152d81f",
   "metadata": {},
   "outputs": [
    {
     "data": {
      "text/plain": [
       "5590"
      ]
     },
     "execution_count": 210,
     "metadata": {},
     "output_type": "execute_result"
    }
   ],
   "source": [
    "clf_final.get_n_leaves()"
   ]
  },
  {
   "cell_type": "code",
   "execution_count": 211,
   "id": "387a305a-9429-409a-b124-f6309937930d",
   "metadata": {},
   "outputs": [
    {
     "data": {
      "text/plain": [
       "55"
      ]
     },
     "execution_count": 211,
     "metadata": {},
     "output_type": "execute_result"
    }
   ],
   "source": [
    "clf_final.get_depth()"
   ]
  }
 ],
 "metadata": {
  "kernelspec": {
   "display_name": "Python 3 (ipykernel)",
   "language": "python",
   "name": "python3"
  },
  "language_info": {
   "codemirror_mode": {
    "name": "ipython",
    "version": 3
   },
   "file_extension": ".py",
   "mimetype": "text/x-python",
   "name": "python",
   "nbconvert_exporter": "python",
   "pygments_lexer": "ipython3",
   "version": "3.11.2"
  }
 },
 "nbformat": 4,
 "nbformat_minor": 5
}
