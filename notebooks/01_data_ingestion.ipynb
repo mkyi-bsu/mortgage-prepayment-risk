{
 "cells": [
  {
   "cell_type": "code",
   "execution_count": 1,
   "id": "79d191b5-46de-4777-9720-b1ce7d7ebd8e",
   "metadata": {},
   "outputs": [],
   "source": [
    "import pandas as pd\n",
    "import numpy as np"
   ]
  },
  {
   "cell_type": "markdown",
   "id": "3c8c21a8",
   "metadata": {},
   "source": [
    "# 01 - Data Ingestion & Preprocessing\n",
    "\n",
    "This notebook loads and combines raw Fannie Mae Credit Risk Transfer (CRT) data across multiple time periods. The data is pipe-delimited and requires header handling from a separate file.\n",
    "\n",
    "## Objectives:\n",
    "- Load CRT loan data across several months\n",
    "- Apply the correct headers from the provided reference file\n",
    "- Concatenate data across time into a master dataset\n",
    "- Create the binary target variable `prepay`\n",
    "- Convert string dates to datetime format for time-based grouping\n"
   ]
  },
  {
   "cell_type": "code",
   "execution_count": null,
   "id": "b16cf28f-82d9-441f-90e1-41afa83482a7",
   "metadata": {},
   "outputs": [],
   "source": [
    "file_loc='/Users/Downloads/CAS-102013-082023'\n",
    "df1=pd.read_csv(file_loc+'/CAS_2018-C01_G1_012018.csv', delimiter='|', header=None)"
   ]
  },
  {
   "cell_type": "code",
   "execution_count": 13,
   "id": "c720686c-1650-466c-a1cf-0ed6e7c049f6",
   "metadata": {},
   "outputs": [
    {
     "data": {
      "text/html": [
       "<div>\n",
       "<style scoped>\n",
       "    .dataframe tbody tr th:only-of-type {\n",
       "        vertical-align: middle;\n",
       "    }\n",
       "\n",
       "    .dataframe tbody tr th {\n",
       "        vertical-align: top;\n",
       "    }\n",
       "\n",
       "    .dataframe thead th {\n",
       "        text-align: right;\n",
       "    }\n",
       "</style>\n",
       "<table border=\"1\" class=\"dataframe\">\n",
       "  <thead>\n",
       "    <tr style=\"text-align: right;\">\n",
       "      <th></th>\n",
       "      <th>0</th>\n",
       "      <th>1</th>\n",
       "      <th>2</th>\n",
       "      <th>3</th>\n",
       "      <th>4</th>\n",
       "      <th>5</th>\n",
       "      <th>6</th>\n",
       "      <th>7</th>\n",
       "      <th>8</th>\n",
       "      <th>9</th>\n",
       "      <th>...</th>\n",
       "      <th>98</th>\n",
       "      <th>99</th>\n",
       "      <th>100</th>\n",
       "      <th>101</th>\n",
       "      <th>102</th>\n",
       "      <th>103</th>\n",
       "      <th>104</th>\n",
       "      <th>105</th>\n",
       "      <th>106</th>\n",
       "      <th>107</th>\n",
       "    </tr>\n",
       "  </thead>\n",
       "  <tbody>\n",
       "    <tr>\n",
       "      <th>0</th>\n",
       "      <td>1501</td>\n",
       "      <td>90000001</td>\n",
       "      <td>112017</td>\n",
       "      <td>C</td>\n",
       "      <td>Flagstar Bank, FSB</td>\n",
       "      <td>Flagstar Bank, FSB</td>\n",
       "      <td>FANNIE MAE</td>\n",
       "      <td>4.375</td>\n",
       "      <td>4.375</td>\n",
       "      <td>232000.0</td>\n",
       "      <td>...</td>\n",
       "      <td>NaN</td>\n",
       "      <td>NaN</td>\n",
       "      <td>NaN</td>\n",
       "      <td>NaN</td>\n",
       "      <td>NaN</td>\n",
       "      <td>NaN</td>\n",
       "      <td>NaN</td>\n",
       "      <td>NaN</td>\n",
       "      <td>NaN</td>\n",
       "      <td>NaN</td>\n",
       "    </tr>\n",
       "    <tr>\n",
       "      <th>1</th>\n",
       "      <td>1501</td>\n",
       "      <td>90000002</td>\n",
       "      <td>112017</td>\n",
       "      <td>R</td>\n",
       "      <td>Other</td>\n",
       "      <td>Matrix Financial Services Corporation</td>\n",
       "      <td>FANNIE MAE</td>\n",
       "      <td>4.000</td>\n",
       "      <td>4.000</td>\n",
       "      <td>236000.0</td>\n",
       "      <td>...</td>\n",
       "      <td>NaN</td>\n",
       "      <td>NaN</td>\n",
       "      <td>NaN</td>\n",
       "      <td>NaN</td>\n",
       "      <td>NaN</td>\n",
       "      <td>NaN</td>\n",
       "      <td>NaN</td>\n",
       "      <td>NaN</td>\n",
       "      <td>NaN</td>\n",
       "      <td>NaN</td>\n",
       "    </tr>\n",
       "    <tr>\n",
       "      <th>2</th>\n",
       "      <td>1501</td>\n",
       "      <td>90000003</td>\n",
       "      <td>112017</td>\n",
       "      <td>C</td>\n",
       "      <td>Other</td>\n",
       "      <td>Other</td>\n",
       "      <td>FANNIE MAE</td>\n",
       "      <td>4.500</td>\n",
       "      <td>4.500</td>\n",
       "      <td>95000.0</td>\n",
       "      <td>...</td>\n",
       "      <td>NaN</td>\n",
       "      <td>NaN</td>\n",
       "      <td>NaN</td>\n",
       "      <td>NaN</td>\n",
       "      <td>NaN</td>\n",
       "      <td>NaN</td>\n",
       "      <td>NaN</td>\n",
       "      <td>NaN</td>\n",
       "      <td>NaN</td>\n",
       "      <td>NaN</td>\n",
       "    </tr>\n",
       "    <tr>\n",
       "      <th>3</th>\n",
       "      <td>1501</td>\n",
       "      <td>90000004</td>\n",
       "      <td>112017</td>\n",
       "      <td>R</td>\n",
       "      <td>Movement Mortgage, LLC</td>\n",
       "      <td>Matrix Financial Services Corporation</td>\n",
       "      <td>FANNIE MAE</td>\n",
       "      <td>4.625</td>\n",
       "      <td>4.625</td>\n",
       "      <td>388000.0</td>\n",
       "      <td>...</td>\n",
       "      <td>NaN</td>\n",
       "      <td>NaN</td>\n",
       "      <td>NaN</td>\n",
       "      <td>NaN</td>\n",
       "      <td>NaN</td>\n",
       "      <td>NaN</td>\n",
       "      <td>NaN</td>\n",
       "      <td>NaN</td>\n",
       "      <td>NaN</td>\n",
       "      <td>NaN</td>\n",
       "    </tr>\n",
       "    <tr>\n",
       "      <th>4</th>\n",
       "      <td>1501</td>\n",
       "      <td>90000005</td>\n",
       "      <td>112017</td>\n",
       "      <td>C</td>\n",
       "      <td>Wells Fargo Bank, N.A.</td>\n",
       "      <td>Wells Fargo Bank, N.A.</td>\n",
       "      <td>FANNIE MAE</td>\n",
       "      <td>4.500</td>\n",
       "      <td>4.500</td>\n",
       "      <td>248000.0</td>\n",
       "      <td>...</td>\n",
       "      <td>NaN</td>\n",
       "      <td>NaN</td>\n",
       "      <td>NaN</td>\n",
       "      <td>NaN</td>\n",
       "      <td>NaN</td>\n",
       "      <td>NaN</td>\n",
       "      <td>NaN</td>\n",
       "      <td>NaN</td>\n",
       "      <td>NaN</td>\n",
       "      <td>NaN</td>\n",
       "    </tr>\n",
       "  </tbody>\n",
       "</table>\n",
       "<p>5 rows × 108 columns</p>\n",
       "</div>"
      ],
      "text/plain": [
       "    0         1       2   3                       4    \\\n",
       "0  1501  90000001  112017   C      Flagstar Bank, FSB   \n",
       "1  1501  90000002  112017   R                   Other   \n",
       "2  1501  90000003  112017   C                   Other   \n",
       "3  1501  90000004  112017   R  Movement Mortgage, LLC   \n",
       "4  1501  90000005  112017   C  Wells Fargo Bank, N.A.   \n",
       "\n",
       "                                     5           6      7      8         9    \\\n",
       "0                     Flagstar Bank, FSB  FANNIE MAE  4.375  4.375  232000.0   \n",
       "1  Matrix Financial Services Corporation  FANNIE MAE  4.000  4.000  236000.0   \n",
       "2                                  Other  FANNIE MAE  4.500  4.500   95000.0   \n",
       "3  Matrix Financial Services Corporation  FANNIE MAE  4.625  4.625  388000.0   \n",
       "4                 Wells Fargo Bank, N.A.  FANNIE MAE  4.500  4.500  248000.0   \n",
       "\n",
       "   ...  98   99   100  101  102  103  104  105  106  107  \n",
       "0  ...  NaN  NaN  NaN  NaN  NaN  NaN  NaN  NaN  NaN  NaN  \n",
       "1  ...  NaN  NaN  NaN  NaN  NaN  NaN  NaN  NaN  NaN  NaN  \n",
       "2  ...  NaN  NaN  NaN  NaN  NaN  NaN  NaN  NaN  NaN  NaN  \n",
       "3  ...  NaN  NaN  NaN  NaN  NaN  NaN  NaN  NaN  NaN  NaN  \n",
       "4  ...  NaN  NaN  NaN  NaN  NaN  NaN  NaN  NaN  NaN  NaN  \n",
       "\n",
       "[5 rows x 108 columns]"
      ]
     },
     "execution_count": 13,
     "metadata": {},
     "output_type": "execute_result"
    }
   ],
   "source": [
    "df1.head()"
   ]
  },
  {
   "cell_type": "code",
   "execution_count": 24,
   "id": "26d57a7b-948a-425d-80db-cde8783e1cae",
   "metadata": {},
   "outputs": [],
   "source": [
    "header=pd.read_csv(file_loc+'/CRT_Header_File.csv')"
   ]
  },
  {
   "cell_type": "code",
   "execution_count": 25,
   "id": "9a26469e-2480-43d3-af8a-494031e4fdae",
   "metadata": {},
   "outputs": [
    {
     "data": {
      "text/html": [
       "<div>\n",
       "<style scoped>\n",
       "    .dataframe tbody tr th:only-of-type {\n",
       "        vertical-align: middle;\n",
       "    }\n",
       "\n",
       "    .dataframe tbody tr th {\n",
       "        vertical-align: top;\n",
       "    }\n",
       "\n",
       "    .dataframe thead th {\n",
       "        text-align: right;\n",
       "    }\n",
       "</style>\n",
       "<table border=\"1\" class=\"dataframe\">\n",
       "  <thead>\n",
       "    <tr style=\"text-align: right;\">\n",
       "      <th></th>\n",
       "      <th>Reference Pool ID</th>\n",
       "      <th>Loan Identifier</th>\n",
       "      <th>Monthly Reporting Period</th>\n",
       "      <th>Channel</th>\n",
       "      <th>Seller Name</th>\n",
       "      <th>Servicer Name</th>\n",
       "      <th>Master Servicer</th>\n",
       "      <th>Original Interest Rate</th>\n",
       "      <th>Current Interest Rate</th>\n",
       "      <th>Original UPB</th>\n",
       "      <th>...</th>\n",
       "      <th>Mortgage Margin</th>\n",
       "      <th>ARM Balloon Indicator</th>\n",
       "      <th>ARM Plan Number</th>\n",
       "      <th>Borrower Assistance Plan</th>\n",
       "      <th>High Loan to Value (HLTV) Refinance Option Indicator</th>\n",
       "      <th>Deal Name</th>\n",
       "      <th>Repurchase Make Whole Proceeds Flag</th>\n",
       "      <th>Alternative Delinquency Resolution</th>\n",
       "      <th>Alternative Delinquency  Resolution Count</th>\n",
       "      <th>Total Deferral Amount</th>\n",
       "    </tr>\n",
       "  </thead>\n",
       "  <tbody>\n",
       "  </tbody>\n",
       "</table>\n",
       "<p>0 rows × 108 columns</p>\n",
       "</div>"
      ],
      "text/plain": [
       "Empty DataFrame\n",
       "Columns: [Reference Pool ID, Loan Identifier, Monthly Reporting Period, Channel, Seller Name, Servicer Name, Master Servicer, Original Interest Rate, Current Interest Rate, Original UPB, UPB at Issuance, Current Actual UPB, Original Loan Term, Origination Date, First Payment Date, Loan Age, Remaining Months to Legal Maturity, Remaining Months To Maturity, Maturity Date, Original Loan to Value Ratio (LTV), Original Combined Loan to Value Ratio (CLTV), Number of Borrowers, Debt-To-Income (DTI), Borrower Credit Score at Origination, Co-Borrower Credit Score at Origination, First Time Home Buyer Indicator, Loan Purpose , Property Type, Number of Units, Occupancy Status, Property State, Metropolitan Statistical Area (MSA), Zip Code Short, Mortgage Insurance Percentage, Amortization Type, Prepayment Penalty Indicator, Interest Only Loan Indicator, Interest Only First Principal And Interest Payment Date, Months to Amortization, Current Loan Delinquency Status, Loan Payment History, Modification Flag, Mortgage Insurance Cancellation Indicator, Zero Balance Code, Zero Balance Effective Date, UPB at the Time of Removal, Repurchase Date, Scheduled Principal Current, Total Principal Current, Unscheduled Principal Current, Last Paid Installment Date, Foreclosure Date, Disposition Date, Foreclosure Costs, Property Preservation and Repair Costs, Asset Recovery Costs, Miscellaneous Holding Expenses and Credits, Associated Taxes for Holding Property, Net Sales Proceeds, Credit Enhancement Proceeds, Repurchase Make Whole Proceeds, Other Foreclosure Proceeds, Modification-Related Non-Interest Bearing UPB, Principal Forgiveness Amount, Original List Start Date, Original List Price, Current List Start Date, Current List Price, Borrower Credit Score At Issuance, Co-Borrower Credit Score At Issuance, Borrower Credit Score Current , Co-Borrower Credit Score Current, Mortgage Insurance Type, Servicing Activity Indicator, Current Period Modification Loss Amount, Cumulative Modification Loss Amount, Current Period Credit Event Net Gain or Loss, Cumulative Credit Event Net Gain or Loss, HomeReady Program Indicator, Foreclosure Principal Write-off Amount, Relocation Mortgage Indicator, Zero Balance Code Change Date, Loan Holdback Indicator, Loan Holdback Effective Date, Delinquent Accrued Interest, Property Valuation Method , High Balance Loan Indicator , ARM Initial Fixed-Rate Period  ? 5 YR Indicator, ARM Product Type, Initial Fixed-Rate Period , Interest Rate Adjustment Frequency, Next Interest Rate Adjustment Date, Next Payment Change Date, Index, ARM Cap Structure, Initial Interest Rate Cap Up Percent, Periodic Interest Rate Cap Up Percent, Lifetime Interest Rate Cap Up Percent, Mortgage Margin, ARM Balloon Indicator, ...]\n",
       "Index: []\n",
       "\n",
       "[0 rows x 108 columns]"
      ]
     },
     "execution_count": 25,
     "metadata": {},
     "output_type": "execute_result"
    }
   ],
   "source": [
    "header"
   ]
  },
  {
   "cell_type": "markdown",
   "id": "965b54ea",
   "metadata": {},
   "source": [
    "### ### Apply Headers to the Sample\n",
    "\n",
    "Column names are applied from a separate header file provided by Fannie Mae."
   ]
  },
  {
   "cell_type": "code",
   "execution_count": 15,
   "id": "e589a179-39f0-4b23-9670-2e3c4a8bb86f",
   "metadata": {},
   "outputs": [],
   "source": [
    "df1.columns=header.columns"
   ]
  },
  {
   "cell_type": "code",
   "execution_count": null,
   "id": "29f1e76f-af88-4b45-8587-b88855654524",
   "metadata": {},
   "outputs": [
    {
     "data": {
      "text/html": [
       "<div>\n",
       "<style scoped>\n",
       "    .dataframe tbody tr th:only-of-type {\n",
       "        vertical-align: middle;\n",
       "    }\n",
       "\n",
       "    .dataframe tbody tr th {\n",
       "        vertical-align: top;\n",
       "    }\n",
       "\n",
       "    .dataframe thead th {\n",
       "        text-align: right;\n",
       "    }\n",
       "</style>\n",
       "<table border=\"1\" class=\"dataframe\">\n",
       "  <thead>\n",
       "    <tr style=\"text-align: right;\">\n",
       "      <th></th>\n",
       "      <th>Reference Pool ID</th>\n",
       "      <th>Loan Identifier</th>\n",
       "      <th>Monthly Reporting Period</th>\n",
       "      <th>Channel</th>\n",
       "      <th>Seller Name</th>\n",
       "      <th>Servicer Name</th>\n",
       "      <th>Master Servicer</th>\n",
       "      <th>Original Interest Rate</th>\n",
       "      <th>Current Interest Rate</th>\n",
       "      <th>Original UPB</th>\n",
       "      <th>...</th>\n",
       "      <th>Mortgage Margin</th>\n",
       "      <th>ARM Balloon Indicator</th>\n",
       "      <th>ARM Plan Number</th>\n",
       "      <th>Borrower Assistance Plan</th>\n",
       "      <th>High Loan to Value (HLTV) Refinance Option Indicator</th>\n",
       "      <th>Deal Name</th>\n",
       "      <th>Repurchase Make Whole Proceeds Flag</th>\n",
       "      <th>Alternative Delinquency Resolution</th>\n",
       "      <th>Alternative Delinquency  Resolution Count</th>\n",
       "      <th>Total Deferral Amount</th>\n",
       "    </tr>\n",
       "  </thead>\n",
       "  <tbody>\n",
       "    <tr>\n",
       "      <th>0</th>\n",
       "      <td>1501</td>\n",
       "      <td>90000001</td>\n",
       "      <td>112017</td>\n",
       "      <td>C</td>\n",
       "      <td>Flagstar Bank, FSB</td>\n",
       "      <td>Flagstar Bank, FSB</td>\n",
       "      <td>FANNIE MAE</td>\n",
       "      <td>4.375</td>\n",
       "      <td>4.375</td>\n",
       "      <td>232000.0</td>\n",
       "      <td>...</td>\n",
       "      <td>NaN</td>\n",
       "      <td>NaN</td>\n",
       "      <td>NaN</td>\n",
       "      <td>NaN</td>\n",
       "      <td>NaN</td>\n",
       "      <td>NaN</td>\n",
       "      <td>NaN</td>\n",
       "      <td>NaN</td>\n",
       "      <td>NaN</td>\n",
       "      <td>NaN</td>\n",
       "    </tr>\n",
       "    <tr>\n",
       "      <th>1</th>\n",
       "      <td>1501</td>\n",
       "      <td>90000002</td>\n",
       "      <td>112017</td>\n",
       "      <td>R</td>\n",
       "      <td>Other</td>\n",
       "      <td>Matrix Financial Services Corporation</td>\n",
       "      <td>FANNIE MAE</td>\n",
       "      <td>4.000</td>\n",
       "      <td>4.000</td>\n",
       "      <td>236000.0</td>\n",
       "      <td>...</td>\n",
       "      <td>NaN</td>\n",
       "      <td>NaN</td>\n",
       "      <td>NaN</td>\n",
       "      <td>NaN</td>\n",
       "      <td>NaN</td>\n",
       "      <td>NaN</td>\n",
       "      <td>NaN</td>\n",
       "      <td>NaN</td>\n",
       "      <td>NaN</td>\n",
       "      <td>NaN</td>\n",
       "    </tr>\n",
       "    <tr>\n",
       "      <th>2</th>\n",
       "      <td>1501</td>\n",
       "      <td>90000003</td>\n",
       "      <td>112017</td>\n",
       "      <td>C</td>\n",
       "      <td>Other</td>\n",
       "      <td>Other</td>\n",
       "      <td>FANNIE MAE</td>\n",
       "      <td>4.500</td>\n",
       "      <td>4.500</td>\n",
       "      <td>95000.0</td>\n",
       "      <td>...</td>\n",
       "      <td>NaN</td>\n",
       "      <td>NaN</td>\n",
       "      <td>NaN</td>\n",
       "      <td>NaN</td>\n",
       "      <td>NaN</td>\n",
       "      <td>NaN</td>\n",
       "      <td>NaN</td>\n",
       "      <td>NaN</td>\n",
       "      <td>NaN</td>\n",
       "      <td>NaN</td>\n",
       "    </tr>\n",
       "    <tr>\n",
       "      <th>3</th>\n",
       "      <td>1501</td>\n",
       "      <td>90000004</td>\n",
       "      <td>112017</td>\n",
       "      <td>R</td>\n",
       "      <td>Movement Mortgage, LLC</td>\n",
       "      <td>Matrix Financial Services Corporation</td>\n",
       "      <td>FANNIE MAE</td>\n",
       "      <td>4.625</td>\n",
       "      <td>4.625</td>\n",
       "      <td>388000.0</td>\n",
       "      <td>...</td>\n",
       "      <td>NaN</td>\n",
       "      <td>NaN</td>\n",
       "      <td>NaN</td>\n",
       "      <td>NaN</td>\n",
       "      <td>NaN</td>\n",
       "      <td>NaN</td>\n",
       "      <td>NaN</td>\n",
       "      <td>NaN</td>\n",
       "      <td>NaN</td>\n",
       "      <td>NaN</td>\n",
       "    </tr>\n",
       "    <tr>\n",
       "      <th>4</th>\n",
       "      <td>1501</td>\n",
       "      <td>90000005</td>\n",
       "      <td>112017</td>\n",
       "      <td>C</td>\n",
       "      <td>Wells Fargo Bank, N.A.</td>\n",
       "      <td>Wells Fargo Bank, N.A.</td>\n",
       "      <td>FANNIE MAE</td>\n",
       "      <td>4.500</td>\n",
       "      <td>4.500</td>\n",
       "      <td>248000.0</td>\n",
       "      <td>...</td>\n",
       "      <td>NaN</td>\n",
       "      <td>NaN</td>\n",
       "      <td>NaN</td>\n",
       "      <td>NaN</td>\n",
       "      <td>NaN</td>\n",
       "      <td>NaN</td>\n",
       "      <td>NaN</td>\n",
       "      <td>NaN</td>\n",
       "      <td>NaN</td>\n",
       "      <td>NaN</td>\n",
       "    </tr>\n",
       "  </tbody>\n",
       "</table>\n",
       "<p>5 rows × 108 columns</p>\n",
       "</div>"
      ],
      "text/plain": [
       "   Reference Pool ID  Loan Identifier  Monthly Reporting Period Channel  \\\n",
       "0               1501         90000001                    112017       C   \n",
       "1               1501         90000002                    112017       R   \n",
       "2               1501         90000003                    112017       C   \n",
       "3               1501         90000004                    112017       R   \n",
       "4               1501         90000005                    112017       C   \n",
       "\n",
       "              Seller Name                          Servicer Name  \\\n",
       "0      Flagstar Bank, FSB                     Flagstar Bank, FSB   \n",
       "1                   Other  Matrix Financial Services Corporation   \n",
       "2                   Other                                  Other   \n",
       "3  Movement Mortgage, LLC  Matrix Financial Services Corporation   \n",
       "4  Wells Fargo Bank, N.A.                 Wells Fargo Bank, N.A.   \n",
       "\n",
       "  Master Servicer  Original Interest Rate  Current Interest Rate  \\\n",
       "0      FANNIE MAE                   4.375                  4.375   \n",
       "1      FANNIE MAE                   4.000                  4.000   \n",
       "2      FANNIE MAE                   4.500                  4.500   \n",
       "3      FANNIE MAE                   4.625                  4.625   \n",
       "4      FANNIE MAE                   4.500                  4.500   \n",
       "\n",
       "   Original UPB  ...  Mortgage Margin  ARM Balloon Indicator  ARM Plan Number  \\\n",
       "0      232000.0  ...              NaN                    NaN              NaN   \n",
       "1      236000.0  ...              NaN                    NaN              NaN   \n",
       "2       95000.0  ...              NaN                    NaN              NaN   \n",
       "3      388000.0  ...              NaN                    NaN              NaN   \n",
       "4      248000.0  ...              NaN                    NaN              NaN   \n",
       "\n",
       "   Borrower Assistance Plan  \\\n",
       "0                       NaN   \n",
       "1                       NaN   \n",
       "2                       NaN   \n",
       "3                       NaN   \n",
       "4                       NaN   \n",
       "\n",
       "   High Loan to Value (HLTV) Refinance Option Indicator  Deal Name  \\\n",
       "0                                                NaN           NaN   \n",
       "1                                                NaN           NaN   \n",
       "2                                                NaN           NaN   \n",
       "3                                                NaN           NaN   \n",
       "4                                                NaN           NaN   \n",
       "\n",
       "   Repurchase Make Whole Proceeds Flag  Alternative Delinquency Resolution  \\\n",
       "0                                  NaN                                 NaN   \n",
       "1                                  NaN                                 NaN   \n",
       "2                                  NaN                                 NaN   \n",
       "3                                  NaN                                 NaN   \n",
       "4                                  NaN                                 NaN   \n",
       "\n",
       "   Alternative Delinquency  Resolution Count  Total Deferral Amount   \n",
       "0                                        NaN                     NaN  \n",
       "1                                        NaN                     NaN  \n",
       "2                                        NaN                     NaN  \n",
       "3                                        NaN                     NaN  \n",
       "4                                        NaN                     NaN  \n",
       "\n",
       "[5 rows x 108 columns]"
      ]
     },
     "execution_count": 16,
     "metadata": {},
     "output_type": "execute_result"
    }
   ],
   "source": [
    "df1.head()"
   ]
  },
  {
   "cell_type": "code",
   "execution_count": 31,
   "id": "88eeb153-e2af-4f4a-8aca-bf4ca119374a",
   "metadata": {},
   "outputs": [
    {
     "name": "stdout",
     "output_type": "stream",
     "text": [
      "1\n",
      "2\n",
      "3\n"
     ]
    },
    {
     "name": "stderr",
     "output_type": "stream",
     "text": [
      "/var/folders/nb/cq9dyksn0z39zq6k8k66f0xc0000gn/T/ipykernel_29552/1736986010.py:5: DtypeWarning: Columns (42) have mixed types. Specify dtype option on import or set low_memory=False.\n",
      "  df1=pd.read_csv(file_loc+filename, delimiter='|', header=None)\n"
     ]
    },
    {
     "name": "stdout",
     "output_type": "stream",
     "text": [
      "4\n"
     ]
    },
    {
     "name": "stderr",
     "output_type": "stream",
     "text": [
      "/var/folders/nb/cq9dyksn0z39zq6k8k66f0xc0000gn/T/ipykernel_29552/1736986010.py:5: DtypeWarning: Columns (42,101) have mixed types. Specify dtype option on import or set low_memory=False.\n",
      "  df1=pd.read_csv(file_loc+filename, delimiter='|', header=None)\n"
     ]
    },
    {
     "name": "stdout",
     "output_type": "stream",
     "text": [
      "5\n"
     ]
    },
    {
     "name": "stderr",
     "output_type": "stream",
     "text": [
      "/var/folders/nb/cq9dyksn0z39zq6k8k66f0xc0000gn/T/ipykernel_29552/1736986010.py:5: DtypeWarning: Columns (42,101) have mixed types. Specify dtype option on import or set low_memory=False.\n",
      "  df1=pd.read_csv(file_loc+filename, delimiter='|', header=None)\n"
     ]
    },
    {
     "name": "stdout",
     "output_type": "stream",
     "text": [
      "6\n"
     ]
    },
    {
     "name": "stderr",
     "output_type": "stream",
     "text": [
      "/var/folders/nb/cq9dyksn0z39zq6k8k66f0xc0000gn/T/ipykernel_29552/1736986010.py:5: DtypeWarning: Columns (42,101) have mixed types. Specify dtype option on import or set low_memory=False.\n",
      "  df1=pd.read_csv(file_loc+filename, delimiter='|', header=None)\n"
     ]
    }
   ],
   "source": [
    "header=pd.read_csv(file_loc+'/CRT_Header_File.csv')\n",
    "for i in range(1,7):\n",
    "    print(i)\n",
    "    filename = '/CAS_2018-C01_G1_'+str(i).zfill(2)+'2018.csv'\n",
    "    df1=pd.read_csv(file_loc+filename, delimiter='|', header=None)\n",
    "    df1.columns=header.columns\n",
    "    header = pd.concat([header,df1])"
   ]
  },
  {
   "cell_type": "code",
   "execution_count": 32,
   "id": "eccc9834-7a6d-4db7-a6b9-29c13b2f8fb0",
   "metadata": {},
   "outputs": [
    {
     "data": {
      "text/plain": [
       "Monthly Reporting Period\n",
       "12018     186525\n",
       "22018     186525\n",
       "32018     186525\n",
       "42018     186525\n",
       "112017    186525\n",
       "122017    186525\n",
       "dtype: int64"
      ]
     },
     "execution_count": 32,
     "metadata": {},
     "output_type": "execute_result"
    }
   ],
   "source": [
    "header.groupby('Monthly Reporting Period').size()"
   ]
  },
  {
   "cell_type": "markdown",
   "id": "e3fb72c2",
   "metadata": {},
   "source": [
    "### Create Prepayment Flag\n",
    "\n",
    "Defining a binary target `prepay` = 'Y' if Zero Balance Code equals 1 (prepaid), otherwise 'N'."
   ]
  },
  {
   "cell_type": "code",
   "execution_count": 37,
   "id": "ca171839-92a9-450c-afb7-3b7b4b41b17a",
   "metadata": {},
   "outputs": [
    {
     "data": {
      "text/plain": [
       "dtype('float64')"
      ]
     },
     "execution_count": 37,
     "metadata": {},
     "output_type": "execute_result"
    }
   ],
   "source": [
    "header['prepay']=\"N\"\n",
    "header.loc[header['Zero Balance Code'] == 1, 'prepay'] = \"Y\"\n",
    "header['Zero Balance Code'].dtype"
   ]
  },
  {
   "cell_type": "code",
   "execution_count": 39,
   "id": "cc76363c-0504-46b8-8aa6-4867f3419727",
   "metadata": {},
   "outputs": [
    {
     "data": {
      "text/plain": [
       "Monthly Reporting Period  prepay\n",
       "12018                     N         184318\n",
       "                          Y           2207\n",
       "22018                     N         183441\n",
       "                          Y           3084\n",
       "32018                     N         182416\n",
       "                          Y           4109\n",
       "42018                     N         181498\n",
       "                          Y           5027\n",
       "112017                    N         186525\n",
       "122017                    N         185392\n",
       "                          Y           1133\n",
       "dtype: int64"
      ]
     },
     "execution_count": 39,
     "metadata": {},
     "output_type": "execute_result"
    }
   ],
   "source": [
    "header.groupby(['Monthly Reporting Period','prepay']).size()"
   ]
  },
  {
   "cell_type": "markdown",
   "id": "ba75e24c",
   "metadata": {},
   "source": [
    "### Convert Monthly Reporting Period to DateTime\n",
    "\n",
    "To enable time-based analysis, the `Monthly Reporting Period` is converted into datetime format."
   ]
  },
  {
   "cell_type": "code",
   "execution_count": 40,
   "id": "c6141047-f583-419e-ba93-ed98bb767787",
   "metadata": {},
   "outputs": [],
   "source": [
    "header['reporting_period'] = pd.to_datetime(header['Monthly Reporting Period'].astype(str), format='%m%Y')"
   ]
  },
  {
   "cell_type": "code",
   "execution_count": 41,
   "id": "fcd3e3de-c917-4512-add0-96c9e21b8732",
   "metadata": {},
   "outputs": [
    {
     "data": {
      "text/plain": [
       "0   2017-11-01\n",
       "1   2017-11-01\n",
       "2   2017-11-01\n",
       "3   2017-11-01\n",
       "4   2017-11-01\n",
       "Name: reporting_period, dtype: datetime64[ns]"
      ]
     },
     "execution_count": 41,
     "metadata": {},
     "output_type": "execute_result"
    }
   ],
   "source": [
    "header['reporting_period'].head()"
   ]
  },
  {
   "cell_type": "code",
   "execution_count": 42,
   "id": "0258972a-5c8f-4fab-b4ea-e2968e15ddff",
   "metadata": {},
   "outputs": [
    {
     "data": {
      "text/plain": [
       "reporting_period  prepay\n",
       "2017-11-01        N         186525\n",
       "2017-12-01        N         185392\n",
       "                  Y           1133\n",
       "2018-01-01        N         184318\n",
       "                  Y           2207\n",
       "2018-02-01        N         183441\n",
       "                  Y           3084\n",
       "2018-03-01        N         182416\n",
       "                  Y           4109\n",
       "2018-04-01        N         181498\n",
       "                  Y           5027\n",
       "dtype: int64"
      ]
     },
     "execution_count": 42,
     "metadata": {},
     "output_type": "execute_result"
    }
   ],
   "source": [
    "header.groupby(['reporting_period','prepay']).size()"
   ]
  },
  {
   "cell_type": "markdown",
   "id": "19b64a84-020b-45d3-b96b-8165a783a682",
   "metadata": {},
   "source": []
  },
  {
   "cell_type": "markdown",
   "id": "63901833",
   "metadata": {},
   "source": [
    "# Todo "
   ]
  },
  {
   "cell_type": "markdown",
   "id": "fd3283a6-90ab-447d-b00e-aa2eeaf05047",
   "metadata": {},
   "source": []
  },
  {
   "cell_type": "markdown",
   "id": "a472ac32",
   "metadata": {},
   "source": [
    "1. get more data in\n",
    "2. start to explore relationship between prepay and other predictor variables: correlation, bin plot Current Actual UPB: divide UPB by 0 to100K, 100k to 200k, 200k to 300k, 300k+, plot the binned UPB against prepay.\n",
    "3. get interest rate data: get 10 year treasury rate from 2017 to 2023\n",
    "4. produce prepay percentage in groupby statement"
   ]
  }
 ],
 "metadata": {
  "kernelspec": {
   "display_name": "Python 3 (ipykernel)",
   "language": "python",
   "name": "python3"
  },
  "language_info": {
   "codemirror_mode": {
    "name": "ipython",
    "version": 3
   },
   "file_extension": ".py",
   "mimetype": "text/x-python",
   "name": "python",
   "nbconvert_exporter": "python",
   "pygments_lexer": "ipython3",
   "version": "3.11.2"
  }
 },
 "nbformat": 4,
 "nbformat_minor": 5
}
